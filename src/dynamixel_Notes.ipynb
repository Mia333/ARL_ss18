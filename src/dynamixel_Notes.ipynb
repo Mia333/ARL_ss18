{
 "cells": [
  {
   "cell_type": "markdown",
   "metadata": {},
   "source": [
    "# Notes for PyPot"
   ]
  },
  {
   "cell_type": "markdown",
   "metadata": {},
   "source": [
    "1.    We can access registers to control position, speed or torque of any motor. Basically through Dynamixel low-level IO or Controller API .\n",
    "2.    Port can only be accessed by a single DxlIO instance. Not quite sure about how this means, but seems to have something to do with restart the kernel every time.\n",
    "3.    Communication is thread-safe."
   ]
  },
  {
   "cell_type": "markdown",
   "metadata": {},
   "source": [
    "# Things about DxlIO instance"
   ]
  },
  {
   "cell_type": "markdown",
   "metadata": {},
   "source": [
    "use get_available_ports() to auto-discover compatible devices"
   ]
  },
  {
   "cell_type": "code",
   "execution_count": 1,
   "metadata": {},
   "outputs": [
    {
     "ename": "IOError",
     "evalue": "no port found",
     "output_type": "error",
     "traceback": [
      "\u001b[0;31m---------------------------------------------------------------------------\u001b[0m",
      "\u001b[0;31mIOError\u001b[0m                                   Traceback (most recent call last)",
      "\u001b[0;32m<ipython-input-1-eb287d91d76f>\u001b[0m in \u001b[0;36m<module>\u001b[0;34m()\u001b[0m\n\u001b[1;32m      7\u001b[0m \u001b[0;32mif\u001b[0m \u001b[0;32mnot\u001b[0m \u001b[0mports\u001b[0m\u001b[0;34m:\u001b[0m\u001b[0;34m\u001b[0m\u001b[0m\n\u001b[1;32m      8\u001b[0m \u001b[0;34m\u001b[0m\u001b[0m\n\u001b[0;32m----> 9\u001b[0;31m    \u001b[0;32mraise\u001b[0m \u001b[0mIOError\u001b[0m\u001b[0;34m(\u001b[0m\u001b[0;34m'no port found'\u001b[0m\u001b[0;34m)\u001b[0m\u001b[0;34m\u001b[0m\u001b[0m\n\u001b[0m\u001b[1;32m     10\u001b[0m \u001b[0;34m\u001b[0m\u001b[0m\n\u001b[1;32m     11\u001b[0m \u001b[0;32mprint\u001b[0m\u001b[0;34m(\u001b[0m\u001b[0;34m'ports found'\u001b[0m\u001b[0;34m,\u001b[0m \u001b[0mports\u001b[0m\u001b[0;34m)\u001b[0m\u001b[0;34m\u001b[0m\u001b[0m\n",
      "\u001b[0;31mIOError\u001b[0m: no port found"
     ]
    }
   ],
   "source": [
    " \n",
    "\n",
    "import pypot.dynamixel\n",
    "\n",
    "ports = pypot.dynamixel.get_available_ports()\n",
    "\n",
    "if not ports:\n",
    "\n",
    "    raise IOError('no port found')\n",
    "\n",
    "print('ports found', ports)\n",
    "\n",
    "dxl_io = pypot.dynamixel.DxlIO(ports[...]) # set a DxlIO instance"
   ]
  },
  {
   "cell_type": "markdown",
   "metadata": {},
   "source": [
    "Your pypot io's baud rate need to be the same as the motors configuration. By default, the former is 1000000 and the latter is 57140. This can be done like this. \n",
    "\n",
    "To detect the motors and find their id you can scan the bus. To avoid spending a long time searching all possible values, you can add a list of values to test:"
   ]
  },
  {
   "cell_type": "code",
   "execution_count": null,
   "metadata": {},
   "outputs": [],
   "source": [
    " \n",
    "\n",
    "dxl_io = pypot.dynamixel.DxlIO(port, baudrate=57600)\n",
    "\n",
    "dxl_io.scan() #This might take a while\n",
    "\n",
    "dxl_io.scan([0,1,2,3,4,5,....])"
   ]
  },
  {
   "cell_type": "markdown",
   "metadata": {},
   "source": [
    "Once id of motors connected, we can begin to access their functions by using their id. The position are gained in degrees. "
   ]
  },
  {
   "cell_type": "code",
   "execution_count": null,
   "metadata": {},
   "outputs": [],
   "source": [
    "dxl_io.get_present_position((4, )) #retrieve position of id 4\n",
    "\n",
    "dxl_io.set_goal_position({4: 0}) #set the id 4 to 0 degree"
   ]
  },
  {
   "cell_type": "markdown",
   "metadata": {},
   "source": [
    "* For a DxlIO instance, all getter function takes a list as input, while all setter function takes a dictionary as input. "
   ]
  },
  {
   "cell_type": "markdown",
   "metadata": {},
   "source": [
    "For the MX motors, end points are 180 and -180 degrees. For AX and RX motors, values are 150 and -150 degrees. ###????????????"
   ]
  },
  {
   "cell_type": "markdown",
   "metadata": {},
   "source": [
    "# Things about synchronized control"
   ]
  },
  {
   "cell_type": "markdown",
   "metadata": {},
   "source": [
    "Using class Robot to do higher level control. Low-level control is slower while this faster control enables sychronization loop. First define robot using a configuration file (like a json file). Then set up synchronization loops.\n",
    "\n",
    ". More precisely, through the use of the class Robot you can:\n",
    "\n",
    "   * automatically initialize all connections (make transparent the use of multiple USB2serial connections),\n",
    "   * define offset and direct attributes for motors,\n",
    "   * automatically define accessor for motors and their most frequently used registers (such as goal_position, present_speed, present_load, pid, compliant),\n",
    "   * define read/write synchronization loop that will run in background.\n"
   ]
  },
  {
   "cell_type": "markdown",
   "metadata": {},
   "source": [
    "##  Configuration\n",
    "Configuration file is like a python dictionary contains important fields like controllers motors and motorgroups. \n",
    "\n",
    "__controllers__ - This key holds the information pertaining to a controller and all the items connected to its bus.\n",
    "\n",
    "__motors__ - This is a description of all the custom setup values for each motor. Meta information, such as the motor access name or orientation, is also included here. It is also there that you will set the angle limits of the motor.\n",
    "\n",
    "__motorgroups__ - This is used to define alias of a group of motors (e.g. left_leg).\n",
    "\n",
    "\n",
    "* The example config files don't have one for poppy_humanoid. We should create one! \n",
    "One way to generate config file is simply make a dict in python.\n",
    "* the example provided with pypot and modify it (e.g. pypot.robot.config.ergo_robot_config):\n",
    "\n",
    "For __controllers__, an example is like this:\n",
    " For each of them, you should indicate whether or not to use the SYNC_READ instruction (only the USB2AX device currently supported it). When you describe your controller, you must also include the port that the device is connected to (see Opening/Closing a communication port). In this section, you can also specify which robotis protocol to use (if not specified it uses the v1). You also have to specify which motors are attached to this bus. You can either give individual motors or groups (see the sections below):"
   ]
  },
  {
   "cell_type": "code",
   "execution_count": 2,
   "metadata": {},
   "outputs": [
    {
     "ename": "NameError",
     "evalue": "name 'my_config' is not defined",
     "output_type": "error",
     "traceback": [
      "\u001b[0;31m---------------------------------------------------------------------------\u001b[0m",
      "\u001b[0;31mNameError\u001b[0m                                 Traceback (most recent call last)",
      "\u001b[0;32m<ipython-input-2-d9818c700224>\u001b[0m in \u001b[0;36m<module>\u001b[0;34m()\u001b[0m\n\u001b[1;32m      1\u001b[0m \u001b[0;34m\u001b[0m\u001b[0m\n\u001b[1;32m      2\u001b[0m \u001b[0;34m\u001b[0m\u001b[0m\n\u001b[0;32m----> 3\u001b[0;31m \u001b[0mmy_config\u001b[0m\u001b[0;34m[\u001b[0m\u001b[0;34m'controllers'\u001b[0m\u001b[0;34m]\u001b[0m \u001b[0;34m=\u001b[0m \u001b[0;34m{\u001b[0m\u001b[0;34m}\u001b[0m\u001b[0;34m\u001b[0m\u001b[0m\n\u001b[0m\u001b[1;32m      4\u001b[0m \u001b[0;34m\u001b[0m\u001b[0m\n\u001b[1;32m      5\u001b[0m my_config['controllers']['upper_body_controller'] = {\n",
      "\u001b[0;31mNameError\u001b[0m: name 'my_config' is not defined"
     ]
    }
   ],
   "source": [
    " \n",
    "\n",
    "my_config['controllers'] = {}\n",
    "\n",
    "my_config['controllers']['upper_body_controller'] = {\n",
    "\n",
    "    'port': '/dev/ttyUSB0', # set the port the device is connected to, can be 'auto'\n",
    "\n",
    "    'sync_read': False, # when using SYNC_READ, can access motors synchronizlly\n",
    "\n",
    "    'attached_motors': ['torso', 'head', 'arms'], # specify which motors attach to this bus.\n",
    "\n",
    "    'protocol':1,\n",
    "\n",
    "}"
   ]
  },
  {
   "cell_type": "markdown",
   "metadata": {},
   "source": [
    "__motorgroups__: Here, you can define the different motors group corresponding to the structure of your robot. It will automatically create an alias for the group. Groups can be nested, i.e. a group can be included inside another group, as in the example below:"
   ]
  },
  {
   "cell_type": "code",
   "execution_count": null,
   "metadata": {},
   "outputs": [],
   "source": [
    "my_config['motorgroups'] = {\n",
    "    'torso': ['arms', 'head_x', 'head_y'],\n",
    "    'arms': ['left_arm', 'right_arm'],\n",
    "    'left_arm': ['l_shoulder_x', 'l_shoulder_y', 'l_elbow'],\n",
    "    'right_arm': ['r_shoulder_x', 'r_shoulder_y', 'r_elbow']\n",
    "}"
   ]
  },
  {
   "cell_type": "markdown",
   "metadata": {},
   "source": [
    "__motors__: Then, you add all the motors. The attributes are not optional and describe how the motors can be used in the software. You have to specify the type of motor, it will change which attributes are available (e.g. compliance margin versus pid gains). The name and id are used to access the motor specifically. Orientation describes whether the motor will act in an anti-clockwise fashion (direct) or clockwise (indirect). You should also provide the angle limits of your motor. They will be checked automatically at every start up and changed if needed:"
   ]
  },
  {
   "cell_type": "code",
   "execution_count": null,
   "metadata": {},
   "outputs": [],
   "source": [
    " \n",
    "\n",
    "# Add all the motors, and these attributes are not optional\n",
    "\n",
    "my_config['motors'] = {}\n",
    "\n",
    "my_config['motors']['l_hip_y'] = {\n",
    "\n",
    "    'id':11, # name and id specification\n",
    "\n",
    "    'type': 'MX-28', # see more in document\n",
    "\n",
    "    'orientation': 'direct', # direct is anti-clockwise, indirect is clockwise\n",
    "\n",
    "    'offset': 0.0, # see more in document\n",
    "\n",
    "    'angle_limit': (-90.0, 90.0), will be changed automatically if needed\n",
    "\n",
    "}"
   ]
  },
  {
   "cell_type": "markdown",
   "metadata": {},
   "source": [
    "Use from_config() function to read configuration dict you've created. "
   ]
  },
  {
   "cell_type": "code",
   "execution_count": null,
   "metadata": {},
   "outputs": [],
   "source": [
    "import pypot.robot\n",
    "\n",
    "robot = pypot.robot.from_config(my_config)\n",
    "\n",
    "for m in robot.left_arm:\n",
    "    print(m.present_position)"
   ]
  },
  {
   "cell_type": "markdown",
   "metadata": {},
   "source": [
    "__Robot__ can also be created automatically. But is quite slow. This way is usually used to discover the robot configuration and then export it for later reuse. \n",
    "\n",
    "If you have manually created your Robot (or thanks to the __autodetect_robot()__ function), you can then use the __to_config()__ method to export the Robot current configuration."
   ]
  },
  {
   "cell_type": "code",
   "execution_count": null,
   "metadata": {},
   "outputs": [],
   "source": [
    "from pypot.dynamixel import autodetect_robot\n",
    "\n",
    "my_robot = autodetect_robot()\n",
    "\n",
    "​\n",
    "\n",
    "import json\n",
    "\n",
    "config = my_robot.to_config()\n",
    "\n",
    "with open('my_robot.json', 'wb') as f:\n",
    "\n",
    "    json.dump(config, f)\n",
    "\n",
    "# simply re-create robot using .json file\n",
    "\n",
    "from pypot.robot import from_json\n",
    "\n",
    "new_robot = from_json('my_robot.json')"
   ]
  },
  {
   "cell_type": "markdown",
   "metadata": {},
   "source": [
    "# Control\n",
    "Things about control motors can be accessed via DxlMotor. This is very important!!!\n",
    "\n",
    "Once __Robot__ is created, all things is done and synchronization automatically starts.\n",
    "\n",
    "* Read present position, speed, load at 50Hz\n",
    "* writes the goal position, moving speed and torque limit at 50Hz\n",
    "* writes the pid or compliance margin/slope at 10Hz\n",
    "\n",
    "# Close the robot after done\n",
    "Make sure everything gets cleaned correctly after done. Always call the __close()__ method! Use __contextlib.closing()__ decorator to make sure close() method is always called since something might prevent this method. "
   ]
  },
  {
   "cell_type": "code",
   "execution_count": null,
   "metadata": {},
   "outputs": [],
   "source": [
    " \n",
    "\n",
    "from contextlib import closing\n",
    "\n",
    "import pypot.robot\n",
    "\n",
    "​\n",
    "\n",
    "# The closing decorator make sure that the close function will be called\n",
    "\n",
    "# on the object passed as argument when the with block is exited.\n",
    "\n",
    "with closing(pypot.robot.from_json('myconfig.json')) as my_robot:\n",
    "\n",
    "    # do stuff without having to make sure not to forget to close my_robot!\n",
    "\n",
    "    pass"
   ]
  }
 ],
 "metadata": {
  "kernelspec": {
   "display_name": "Python 2",
   "language": "python",
   "name": "python2"
  },
  "language_info": {
   "codemirror_mode": {
    "name": "ipython",
    "version": 2
   },
   "file_extension": ".py",
   "mimetype": "text/x-python",
   "name": "python",
   "nbconvert_exporter": "python",
   "pygments_lexer": "ipython2",
   "version": "2.7.15"
  }
 },
 "nbformat": 4,
 "nbformat_minor": 2
}
