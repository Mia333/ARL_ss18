{
 "cells": [
  {
   "cell_type": "code",
   "execution_count": 1,
   "metadata": {},
   "outputs": [
    {
     "name": "stdout",
     "output_type": "stream",
     "text": [
      "ports found ['/dev/tty.usbmodem143121', '/dev/tty.usbmodem143111']\n",
      "connecting on the first available port: /dev/tty.usbmodem143121\n"
     ]
    }
   ],
   "source": [
    "import pypot.dynamixel\n",
    "\n",
    "ports = pypot.dynamixel.get_available_ports()\n",
    "\n",
    "if not ports:\n",
    "    raise IOError('no port found!')\n",
    "\n",
    "print 'ports found', ports\n",
    "\n",
    "print 'connecting on the first available port:', ports[0]\n",
    "dxl_io = pypot.dynamixel.DxlIO(ports[0])"
   ]
  },
  {
   "cell_type": "code",
   "execution_count": 1,
   "metadata": {},
   "outputs": [
    {
     "name": "stdout",
     "output_type": "stream",
     "text": [
      "available ports: ['/dev/tty.usbmodem143121', '/dev/tty.usbmodem143111']\n",
      "Using the first on the list /dev/tty.usbmodem143121\n",
      "Connected!\n",
      "Found ids: [11, 12, 13, 14, 15, 21, 22, 23, 24, 25]\n"
     ]
    }
   ],
   "source": [
    "import itertools\n",
    "import numpy\n",
    "import time\n",
    "\n",
    "import pypot.dynamixel\n",
    "\n",
    "AMP = 30\n",
    "FREQ = 0.5\n",
    "\n",
    "if __name__ == '__main__':\n",
    "    ports = pypot.dynamixel.get_available_ports()\n",
    "    print 'available ports:', ports\n",
    "\n",
    "    if not ports:\n",
    "        raise IOError('No port available.')\n",
    "\n",
    "    port = ports[0]\n",
    "    print 'Using the first on the list', port\n",
    "\n",
    "    dxl_io = pypot.dynamixel.DxlIO(port)\n",
    "    print 'Connected!'\n",
    "\n",
    "    found_ids = dxl_io.scan()\n",
    "    print 'Found ids:', found_ids\n",
    "\n",
    "    if len(found_ids) < 2:\n",
    "        raise IOError('You should connect at least two motors on the bus for this test.')\n",
    "\n",
    "    ids = found_ids[:2]\n",
    "\n",
    "    dxl_io.enable_torque(ids)\n",
    "\n",
    "    speed = dict(zip(ids, itertools.repeat(200)))\n",
    "    dxl_io.set_moving_speed(speed)\n",
    "\n",
    "    pos = dict(zip(ids, itertools.repeat(0)))\n",
    "    dxl_io.set_goal_position(pos)\n",
    "\n",
    "\n",
    "    t0 = time.time()\n",
    "    while True:\n",
    "        t = time.time()\n",
    "        if (t - t0) > 5:\n",
    "            break\n",
    "\n",
    "        pos = AMP * numpy.sin(2 * numpy.pi * FREQ * t)\n",
    "        dxl_io.set_goal_position(dict(zip(ids, itertools.repeat(pos))))\n",
    "\n",
    "        time.sleep(0.02)"
   ]
  },
  {
   "cell_type": "code",
   "execution_count": 2,
   "metadata": {},
   "outputs": [],
   "source": [
    "import time\n",
    "\n",
    "import pypot.primitive\n",
    "\n",
    "class DancePrimitive(pypot.primitive.Primitive):\n",
    "    def run(self, amp=30, freq=0.5):\n",
    "        # self.elapsed_time gives you the time (in s) since the primitive has been running\n",
    "        while self.elapsed_time < 30:\n",
    "            x = amp * numpy.sin(2 * numpy.pi * freq * self.elapsed_time)\n",
    "\n",
    "            self.robot.knee.goal_position = x\n",
    "            self.robot.ankle.goal_position = -x\n",
    "\n",
    "            time.sleep(0.02)"
   ]
  },
  {
   "cell_type": "code",
   "execution_count": 3,
   "metadata": {},
   "outputs": [
    {
     "ename": "NameError",
     "evalue": "name 'humanoid_robot' is not defined",
     "output_type": "error",
     "traceback": [
      "\u001b[0;31m---------------------------------------------------------------------------\u001b[0m",
      "\u001b[0;31mNameError\u001b[0m                                 Traceback (most recent call last)",
      "\u001b[0;32m<ipython-input-3-da3d07eb66d6>\u001b[0m in \u001b[0;36m<module>\u001b[0;34m()\u001b[0m\n\u001b[0;32m----> 1\u001b[0;31m \u001b[0mdance\u001b[0m \u001b[0;34m=\u001b[0m \u001b[0mDancePrimitive\u001b[0m\u001b[0;34m(\u001b[0m\u001b[0mhumanoid_robot\u001b[0m\u001b[0;34m)\u001b[0m\u001b[0;34m\u001b[0m\u001b[0m\n\u001b[0m",
      "\u001b[0;31mNameError\u001b[0m: name 'humanoid_robot' is not defined"
     ]
    }
   ],
   "source": [
    "humanoid_robot = pypot.robot.from_config(...)\n",
    "dance = DancePrimitive(humanoid_robot)"
   ]
  },
  {
   "cell_type": "code",
   "execution_count": 2,
   "metadata": {},
   "outputs": [
    {
     "ename": "DxlError",
     "evalue": "Another instance of pypot use the port /dev/tty.usbmodem143121. You should restart your Python kernel to pass through this issue.",
     "output_type": "error",
     "traceback": [
      "\u001b[0;31m---------------------------------------------------------------------------\u001b[0m",
      "\u001b[0;31mDxlError\u001b[0m                                  Traceback (most recent call last)",
      "\u001b[0;32m<ipython-input-2-da94efae6227>\u001b[0m in \u001b[0;36m<module>\u001b[0;34m()\u001b[0m\n\u001b[1;32m      1\u001b[0m \u001b[0;32mfrom\u001b[0m \u001b[0mpypot\u001b[0m\u001b[0;34m.\u001b[0m\u001b[0mdynamixel\u001b[0m \u001b[0;32mimport\u001b[0m \u001b[0mautodetect_robot\u001b[0m\u001b[0;34m\u001b[0m\u001b[0m\n\u001b[1;32m      2\u001b[0m \u001b[0;34m\u001b[0m\u001b[0m\n\u001b[0;32m----> 3\u001b[0;31m \u001b[0mmy_robot\u001b[0m \u001b[0;34m=\u001b[0m \u001b[0mautodetect_robot\u001b[0m\u001b[0;34m(\u001b[0m\u001b[0;34m)\u001b[0m\u001b[0;34m\u001b[0m\u001b[0m\n\u001b[0m\u001b[1;32m      4\u001b[0m \u001b[0;34m\u001b[0m\u001b[0m\n\u001b[1;32m      5\u001b[0m \u001b[0;32mfor\u001b[0m \u001b[0mm\u001b[0m \u001b[0;32min\u001b[0m \u001b[0mmy_robot\u001b[0m\u001b[0;34m.\u001b[0m\u001b[0mmotors\u001b[0m\u001b[0;34m:\u001b[0m\u001b[0;34m\u001b[0m\u001b[0m\n",
      "\u001b[0;32m/Users/jamessteve/poppy/lib/python2.7/site-packages/pypot/dynamixel/__init__.pyc\u001b[0m in \u001b[0;36mautodetect_robot\u001b[0;34m()\u001b[0m\n\u001b[1;32m    113\u001b[0m     \u001b[0;32mfor\u001b[0m \u001b[0mport\u001b[0m \u001b[0;32min\u001b[0m \u001b[0mget_available_ports\u001b[0m\u001b[0;34m(\u001b[0m\u001b[0;34m)\u001b[0m\u001b[0;34m:\u001b[0m\u001b[0;34m\u001b[0m\u001b[0m\n\u001b[1;32m    114\u001b[0m         \u001b[0;32mfor\u001b[0m \u001b[0mDxlIOCls\u001b[0m \u001b[0;32min\u001b[0m \u001b[0;34m(\u001b[0m\u001b[0mDxlIO\u001b[0m\u001b[0;34m,\u001b[0m \u001b[0mDxl320IO\u001b[0m\u001b[0;34m)\u001b[0m\u001b[0;34m:\u001b[0m\u001b[0;34m\u001b[0m\u001b[0m\n\u001b[0;32m--> 115\u001b[0;31m             \u001b[0mdxl_io\u001b[0m \u001b[0;34m=\u001b[0m \u001b[0mDxlIOCls\u001b[0m\u001b[0;34m(\u001b[0m\u001b[0mport\u001b[0m\u001b[0;34m)\u001b[0m\u001b[0;34m\u001b[0m\u001b[0m\n\u001b[0m\u001b[1;32m    116\u001b[0m             \u001b[0mids\u001b[0m \u001b[0;34m=\u001b[0m \u001b[0mdxl_io\u001b[0m\u001b[0;34m.\u001b[0m\u001b[0mscan\u001b[0m\u001b[0;34m(\u001b[0m\u001b[0;34m)\u001b[0m\u001b[0;34m\u001b[0m\u001b[0m\n\u001b[1;32m    117\u001b[0m \u001b[0;34m\u001b[0m\u001b[0m\n",
      "\u001b[0;32m/Users/jamessteve/poppy/lib/python2.7/site-packages/pypot/dynamixel/io/abstract_io.pyc\u001b[0m in \u001b[0;36m__init__\u001b[0;34m(self, port, baudrate, timeout, use_sync_read, error_handler_cls, convert)\u001b[0m\n\u001b[1;32m     73\u001b[0m         \u001b[0mself\u001b[0m\u001b[0;34m.\u001b[0m\u001b[0m_serial_lock\u001b[0m \u001b[0;34m=\u001b[0m \u001b[0mthreading\u001b[0m\u001b[0;34m.\u001b[0m\u001b[0mLock\u001b[0m\u001b[0;34m(\u001b[0m\u001b[0;34m)\u001b[0m\u001b[0;34m\u001b[0m\u001b[0m\n\u001b[1;32m     74\u001b[0m \u001b[0;34m\u001b[0m\u001b[0m\n\u001b[0;32m---> 75\u001b[0;31m         \u001b[0mself\u001b[0m\u001b[0;34m.\u001b[0m\u001b[0mopen\u001b[0m\u001b[0;34m(\u001b[0m\u001b[0mport\u001b[0m\u001b[0;34m,\u001b[0m \u001b[0mbaudrate\u001b[0m\u001b[0;34m,\u001b[0m \u001b[0mtimeout\u001b[0m\u001b[0;34m)\u001b[0m\u001b[0;34m\u001b[0m\u001b[0m\n\u001b[0m\u001b[1;32m     76\u001b[0m \u001b[0;34m\u001b[0m\u001b[0m\n\u001b[1;32m     77\u001b[0m     \u001b[0;32mdef\u001b[0m \u001b[0m__enter__\u001b[0m\u001b[0;34m(\u001b[0m\u001b[0mself\u001b[0m\u001b[0;34m)\u001b[0m\u001b[0;34m:\u001b[0m\u001b[0;34m\u001b[0m\u001b[0m\n",
      "\u001b[0;32m/Users/jamessteve/poppy/lib/python2.7/site-packages/pypot/dynamixel/io/abstract_io.pyc\u001b[0m in \u001b[0;36mopen\u001b[0;34m(self, port, baudrate, timeout)\u001b[0m\n\u001b[1;32m     96\u001b[0m \u001b[0;34m\u001b[0m\u001b[0m\n\u001b[1;32m     97\u001b[0m             \"\"\"\n\u001b[0;32m---> 98\u001b[0;31m         \u001b[0mself\u001b[0m\u001b[0;34m.\u001b[0m\u001b[0m_open\u001b[0m\u001b[0;34m(\u001b[0m\u001b[0mport\u001b[0m\u001b[0;34m,\u001b[0m \u001b[0mbaudrate\u001b[0m\u001b[0;34m,\u001b[0m \u001b[0mtimeout\u001b[0m\u001b[0;34m)\u001b[0m\u001b[0;34m\u001b[0m\u001b[0m\n\u001b[0m\u001b[1;32m     99\u001b[0m         logger.info(\"Opening port '%s'\", self.port,\n\u001b[1;32m    100\u001b[0m                     extra={'port': port,\n",
      "\u001b[0;32m/Users/jamessteve/poppy/lib/python2.7/site-packages/pypot/dynamixel/io/abstract_io.pyc\u001b[0m in \u001b[0;36m_open\u001b[0;34m(self, port, baudrate, timeout, max_recursion)\u001b[0m\n\u001b[1;32m    118\u001b[0m \u001b[0;34m\u001b[0m\u001b[0m\n\u001b[1;32m    119\u001b[0m                 \u001b[0;32mif\u001b[0m \u001b[0mport\u001b[0m \u001b[0;32min\u001b[0m \u001b[0mself\u001b[0m\u001b[0;34m.\u001b[0m\u001b[0m__used_ports\u001b[0m\u001b[0;34m:\u001b[0m\u001b[0;34m\u001b[0m\u001b[0m\n\u001b[0;32m--> 120\u001b[0;31m                     \u001b[0;32mraise\u001b[0m \u001b[0mDxlError\u001b[0m\u001b[0;34m(\u001b[0m\u001b[0;34m'Another instance of pypot use the port {}. You should restart your Python kernel to pass through this issue.'\u001b[0m\u001b[0;34m.\u001b[0m\u001b[0mformat\u001b[0m\u001b[0;34m(\u001b[0m\u001b[0mport\u001b[0m\u001b[0;34m)\u001b[0m\u001b[0;34m)\u001b[0m\u001b[0;34m\u001b[0m\u001b[0m\n\u001b[0m\u001b[1;32m    121\u001b[0m \u001b[0;34m\u001b[0m\u001b[0m\n\u001b[1;32m    122\u001b[0m                 \u001b[0;31m# Dirty walkaround to fix a strange bug.\u001b[0m\u001b[0;34m\u001b[0m\u001b[0;34m\u001b[0m\u001b[0m\n",
      "\u001b[0;31mDxlError\u001b[0m: Another instance of pypot use the port /dev/tty.usbmodem143121. You should restart your Python kernel to pass through this issue."
     ]
    }
   ],
   "source": [
    "from pypot.dynamixel import autodetect_robot\n",
    "\n",
    "my_robot = autodetect_robot()\n",
    "\n",
    "for m in my_robot.motors:\n",
    "    m.goal_position = 1.0"
   ]
  },
  {
   "cell_type": "code",
   "execution_count": null,
   "metadata": {},
   "outputs": [],
   "source": []
  }
 ],
 "metadata": {
  "kernelspec": {
   "display_name": "Python 2",
   "language": "python",
   "name": "python2"
  },
  "language_info": {
   "codemirror_mode": {
    "name": "ipython",
    "version": 2
   },
   "file_extension": ".py",
   "mimetype": "text/x-python",
   "name": "python",
   "nbconvert_exporter": "python",
   "pygments_lexer": "ipython2",
   "version": "2.7.15"
  }
 },
 "nbformat": 4,
 "nbformat_minor": 2
}
